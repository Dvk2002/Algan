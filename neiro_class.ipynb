{
 "cells": [
  {
   "cell_type": "code",
   "execution_count": 534,
   "metadata": {},
   "outputs": [],
   "source": [
    "import numpy as np\n",
    "import pandas as pd\n",
    "from sklearn.metrics import roc_auc_score\n",
    "np.random.seed(100)\n",
    "from sklearn.model_selection import train_test_split"
   ]
  },
  {
   "cell_type": "code",
   "execution_count": 363,
   "metadata": {},
   "outputs": [],
   "source": [
    "class neira:\n",
    "    def __init__(self, inputn=3, hiddenn=3, outputn=3, lrate=0.3):\n",
    "        self.inn = inputn\n",
    "        self.hn = hiddenn\n",
    "        self.on = outputn\n",
    "        self.lr = lrate\n",
    "        self.act_func = lambda x: scipy.special.expit(x)\n",
    "        self.wih = np.random.normal(0.0, pow(self.hn,-0.5), (self.hn, self.inn))\n",
    "        self.who = np.random.normal(0.0, pow(self.on, -0.5), (self.on, self.hn))\n",
    "        \n",
    "    def train(self,inputs_list, tagets_list):\n",
    "        inputs = np.array(inputs_list, ndmin = 2).T\n",
    "        tagets = np.array(tagets_list, ndmin = 2).T\n",
    "\n",
    "        hd_inn = np.dot(self.wih, inputs)\n",
    "\n",
    "        hd_out = self.act_func(hd_inn)\n",
    "\n",
    "        fin_inn = np.dot(self.who, hd_out)\n",
    "\n",
    "        fin_out = self.act_func(fin_inn)\n",
    "\n",
    "        out_err = tagets - fin_out\n",
    "        hd_err = np.dot(self.who.T, out_err)\n",
    "\n",
    "        a= self.lr* np.dot((out_err*fin_out*(1-fin_out)), np.transpose(hd_out))\n",
    "\n",
    "        self.who += self.lr* np.dot((out_err*fin_out*(1-fin_out)), np.transpose(hd_out))\n",
    "        self.wih += self.lr* np.dot((hd_err*hd_out*(1-hd_out)), np.transpose(inputs))\n",
    "\n",
    "    def query(self,inputs_list):\n",
    "        inputs = np.array(inputs_list, ndmin = 2).T\n",
    "        hd_inn = np.dot(self.wih, inputs)\n",
    "        \n",
    "        hd_out = self.act_func(hd_inn)\n",
    "        fin_inn = np.dot(self.who, hd_out)\n",
    "        fin_out = self.act_func(fin_inn)\n",
    "        return fin_out\n",
    "        "
   ]
  },
  {
   "cell_type": "code",
   "execution_count": 630,
   "metadata": {},
   "outputs": [],
   "source": [
    "data_pd = pd.read_csv('train.csv', index_col = 'Id')\n",
    "\n",
    "for column in data_pd.columns:\n",
    "    data_pd[column]= (data_pd[column]-data_pd[column].min())/(data_pd[column].max()-data_pd[column].min())\n",
    "\n",
    "data_X = data_pd.iloc[:,:-1]\n",
    "data_X\n",
    "data_y = data_pd.iloc[:,-1]\n"
   ]
  },
  {
   "cell_type": "code",
   "execution_count": 627,
   "metadata": {},
   "outputs": [],
   "source": [
    "from sklearn import model_selection\n",
    "\n",
    "train_data, test_data, train_labels, test_labels = model_selection.train_test_split(data_X, \n",
    "                                                                                     data_y, \n",
    "                                                                                     test_size = 0.3,\n",
    "                                                                                     random_state =100)\n"
   ]
  },
  {
   "cell_type": "code",
   "execution_count": 615,
   "metadata": {},
   "outputs": [],
   "source": [
    "input_nodes = 11\n",
    "hidden_nodes = 8\n",
    "output_nodes = 2"
   ]
  },
  {
   "cell_type": "code",
   "execution_count": 616,
   "metadata": {},
   "outputs": [],
   "source": [
    "n=neira(input_nodes, hidden_nodes, output_nodes, lrate = 0.03)"
   ]
  },
  {
   "cell_type": "code",
   "execution_count": 620,
   "metadata": {},
   "outputs": [],
   "source": [
    "epoch = 50\n",
    "for e in range(epoch):\n",
    "    for i in range(len(data_X)):\n",
    "        inputs =  data_X.iloc[i,:]\n",
    "        targets = np.zeros(output_nodes)+0.01       \n",
    "        targets[int(data_y.iloc[i])] = 0.99\n",
    "        n.train(inputs, targets)"
   ]
  },
  {
   "cell_type": "code",
   "execution_count": 628,
   "metadata": {},
   "outputs": [],
   "source": [
    "pred = []\n",
    "scorecard = []\n",
    "\n",
    "for i in range(len(test_data)):\n",
    "\n",
    "\n",
    "    inputs =  test_data.iloc[i,:]\n",
    "    outputs = n.query(inputs)\n",
    "    pred.append(outputs[1])\n"
   ]
  },
  {
   "cell_type": "code",
   "execution_count": 622,
   "metadata": {},
   "outputs": [
    {
     "data": {
      "text/plain": [
       "0.8686534866025036"
      ]
     },
     "execution_count": 622,
     "metadata": {},
     "output_type": "execute_result"
    }
   ],
   "source": [
    "roc_auc_score(test_labels,pred)"
   ]
  },
  {
   "cell_type": "code",
   "execution_count": 623,
   "metadata": {},
   "outputs": [],
   "source": [
    "test_data1 = pd.read_csv('test.csv', index_col = 'Id')"
   ]
  },
  {
   "cell_type": "code",
   "execution_count": 624,
   "metadata": {},
   "outputs": [],
   "source": [
    "for column in test_data1.columns:\n",
    "    test_data1[column]= (test_data1[column]-test_data1[column].min())/(test_data1[column].max()-test_data1[column].min())\n"
   ]
  },
  {
   "cell_type": "code",
   "execution_count": 629,
   "metadata": {},
   "outputs": [],
   "source": [
    "pred = []\n",
    "scorecard = []\n",
    "\n",
    "for i in range(len(test_data1)):\n",
    "\n",
    "    inputs =  test_data1.iloc[i,:]\n",
    "    outputs = n.query(inputs)\n",
    "    pred.append(*outputs[1])"
   ]
  },
  {
   "cell_type": "code",
   "execution_count": 626,
   "metadata": {},
   "outputs": [],
   "source": [
    "\n",
    "pd_pred= pd.DataFrame({'Id':data_test.index, 'choose': pred}, )\n",
    "pd_pred.to_csv(\"submission.csv\", index=False)"
   ]
  },
  {
   "cell_type": "code",
   "execution_count": null,
   "metadata": {},
   "outputs": [],
   "source": []
  }
 ],
 "metadata": {
  "celltoolbar": "Edit Metadata",
  "kernelspec": {
   "display_name": "Python 3",
   "language": "python",
   "name": "python3"
  },
  "language_info": {
   "codemirror_mode": {
    "name": "ipython",
    "version": 3
   },
   "file_extension": ".py",
   "mimetype": "text/x-python",
   "name": "python",
   "nbconvert_exporter": "python",
   "pygments_lexer": "ipython3",
   "version": "3.7.3"
  }
 },
 "nbformat": 4,
 "nbformat_minor": 2
}
