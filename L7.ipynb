{
 "cells": [
  {
   "cell_type": "markdown",
   "metadata": {},
   "source": [
    "К алгоритму kNN, реализованному на уроке, реализовать добавление весов для соседей по любому из показанных на уроке принципов."
   ]
  },
  {
   "cell_type": "code",
   "execution_count": 155,
   "metadata": {},
   "outputs": [],
   "source": [
    "def knn(x_train, y_train, x_test, k):\n",
    "    \n",
    "    answers = []\n",
    "    for x in x_test:\n",
    "        test_distances = []\n",
    "            \n",
    "        for i in range(len(x_train)):\n",
    "            \n",
    "            # расчет расстояния от классифицируемого объекта до\n",
    "            # объекта обучающей выборки\n",
    "            distance = e_metrics(x, x_train[i])\n",
    "            # Записываем в список значение расстояния и ответа на объекте обучающей выборки\n",
    "            test_distances.append((distance, y_train[i]))\n",
    "        \n",
    "        # создаем словарь со всеми возможными классами\n",
    "        classes= {class_item: 0 for class_item in set(y_train)}\n",
    "\n",
    "        # Сортируем список и среди первых k элементов подсчитаем частоту появления разных классов\n",
    "        for d in sorted(test_distances)[0:k]:\n",
    "            classes[d[1]] += 1*(0.5**d[0])\n",
    "\n",
    "            \n",
    "        # Записываем в список ответов наиболее часто встречающийся класс\n",
    "        answers.append(sorted(classes, key=classes.get)[-1])\n",
    "    return answers"
   ]
  },
  {
   "cell_type": "code",
   "execution_count": null,
   "metadata": {},
   "outputs": [],
   "source": []
  },
  {
   "cell_type": "markdown",
   "metadata": {},
   "source": [
    "2*. Написать функцию подсчета метрики качества кластеризации как среднее квадратичное внутриклассовое расстояние и построить график ее зависимости от количества кластеров k (взять от 1 до 10) для выборки данных из данного урока (создать датасет, как в методичке)."
   ]
  },
  {
   "cell_type": "code",
   "execution_count": 165,
   "metadata": {},
   "outputs": [],
   "source": [
    "import numpy as np\n",
    "from sklearn import model_selection\n",
    "from sklearn.datasets import load_iris\n",
    "import matplotlib.pyplot as plt\n",
    "import matplotlib\n",
    "%matplotlib inline\n",
    "from matplotlib.colors import ListedColormap"
   ]
  },
  {
   "cell_type": "code",
   "execution_count": 166,
   "metadata": {},
   "outputs": [],
   "source": [
    "from sklearn.datasets import make_blobs\n",
    "import random\n",
    "\n",
    "X, y = make_blobs(n_samples=100, random_state=1)"
   ]
  },
  {
   "cell_type": "code",
   "execution_count": 167,
   "metadata": {},
   "outputs": [],
   "source": [
    "def e_metrics(x1, x2):\n",
    "    \n",
    "    distance = 0\n",
    "    for i in range(len(x1)):\n",
    "        distance += np.square(x1[i] - x2[i])\n",
    "    \n",
    "    return np.sqrt(distance)"
   ]
  },
  {
   "cell_type": "code",
   "execution_count": 168,
   "metadata": {},
   "outputs": [],
   "source": [
    "def kmeans(data, k, max_iterations, min_distance):    \n",
    "    # инициализируем центроиды как первые k элементов датасета\n",
    "    centroids = [data[i] for i in range(k)]\n",
    "    \n",
    "    for _ in range(max_iterations):\n",
    "        # Создадим словарь для классификации\n",
    "        classes = {i: [] for i in range(k)}\n",
    "        \n",
    "        # классифицируем объекты по центроидам\n",
    "        for x in data:\n",
    "            # определим расстояния от объекта до каждого центроида\n",
    "            distances = [e_metrics(x, centroid) for centroid in centroids]\n",
    "            # отнесем объект к кластеру, до центроида которого наименьшее расстояние\n",
    "            classification = distances.index(min(distances))\n",
    "            classes[classification].append(x)\n",
    "        \n",
    "        # сохраним предыдущие центроиды в отдельный список для последующего сравнения сновыми\n",
    "        old_centroids = centroids.copy()\n",
    "        \n",
    "        # пересчитаем центроиды как среднее по кластерам\n",
    "        for classification in classes:\n",
    "            centroids[classification] = np.average(classes[classification], axis=0)\n",
    "            \n",
    "        # сравним величину смещения центроидов с минимальной\n",
    "        optimal = True\n",
    "        for centroid in range(len(centroids)):\n",
    "            if np.sum(abs((centroids[centroid] - old_centroids[centroid]) / old_centroids * 100)) > min_distance:\n",
    "                optimal = False\n",
    "                \n",
    "        # если все смещения меньше минимального, останавливаем алгоритм  \n",
    "        if optimal:\n",
    "            break\n",
    "    \n",
    "    return old_centroids, classes"
   ]
  },
  {
   "cell_type": "code",
   "execution_count": 173,
   "metadata": {},
   "outputs": [],
   "source": [
    "def mean_square_dist(centroids,clusters):\n",
    "    mean_square_dist_ = 0\n",
    "    for class_, values in clusters.items():\n",
    "        mean_square_dist_ += sum([e_metrics(x, centroids[class_])**2 for x in values])/len(values)\n",
    "    return mean_square_dist_\n",
    "        "
   ]
  },
  {
   "cell_type": "code",
   "execution_count": 174,
   "metadata": {},
   "outputs": [],
   "source": [
    "max_iterations = 1\n",
    "min_distance = 1e-4\n",
    "K = list(range(2, 11))"
   ]
  },
  {
   "cell_type": "code",
   "execution_count": 175,
   "metadata": {},
   "outputs": [
    {
     "data": {
      "image/png": "[encoded data removed]",
      "text/plain": [
       "<Figure size 432x288 with 1 Axes>"
      ]
     },
     "metadata": {
      "needs_background": "light"
     },
     "output_type": "display_data"
    }
   ],
   "source": [
    "mean_square_distations = []\n",
    "for k in K:\n",
    "    centroids, clusters = kmeans(X, k, max_iterations, min_distance)\n",
    "    mean_square_distations.append(mean_square_dist(centroids, clusters))\n",
    "    \n",
    "plt.plot(K, mean_square_distations)\n",
    "plt.xlabel('K')\n",
    "plt.ylabel('mean_square_distation')\n",
    "plt.show()    "
   ]
  },
  {
   "cell_type": "code",
   "execution_count": null,
   "metadata": {},
   "outputs": [],
   "source": []
  }
 ],
 "metadata": {
  "kernelspec": {
   "display_name": "Python 3",
   "language": "python",
   "name": "python3"
  },
  "language_info": {
   "codemirror_mode": {
    "name": "ipython",
    "version": 3
   },
   "file_extension": ".py",
   "mimetype": "text/x-python",
   "name": "python",
   "nbconvert_exporter": "python",
   "pygments_lexer": "ipython3",
   "version": "3.7.3"
  }
 },
 "nbformat": 4,
 "nbformat_minor": 2
}
